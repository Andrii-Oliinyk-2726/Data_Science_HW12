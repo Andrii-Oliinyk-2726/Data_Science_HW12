{
  "nbformat": 4,
  "nbformat_minor": 0,
  "metadata": {
    "colab": {
      "provenance": [],
      "authorship_tag": "ABX9TyPm501DAOFsctpTC7pM6GMp",
      "include_colab_link": true
    },
    "kernelspec": {
      "name": "python3",
      "display_name": "Python 3"
    },
    "language_info": {
      "name": "python"
    }
  },
  "cells": [
    {
      "cell_type": "markdown",
      "metadata": {
        "id": "view-in-github",
        "colab_type": "text"
      },
      "source": [
        "<a href=\"https://colab.research.google.com/github/Andrii-Oliinyk-2726/Data_Science_HW12/blob/main/Hw12.ipynb\" target=\"_parent\"><img src=\"https://colab.research.google.com/assets/colab-badge.svg\" alt=\"Open In Colab\"/></a>"
      ]
    },
    {
      "cell_type": "code",
      "execution_count": 31,
      "metadata": {
        "id": "5lRa-co6Pnxn"
      },
      "outputs": [],
      "source": [
        "import spacy\n",
        "import nltk\n",
        "from nltk.corpus import stopwords\n",
        "from nltk.tokenize import word_tokenize, sent_tokenize\n",
        "from heapq import nlargest\n",
        "import string\n",
        "from spacy.lang.en.stop_words import STOP_WORDS"
      ]
    },
    {
      "cell_type": "code",
      "source": [
        "text = \"The Orbiter Discovery, OV-103, is considered eligible for listing in the National Register of Historic Places (NRHP) in the context of the U.S. Space Shuttle Program (1969-2011) under Criterion A in the areas of Space Exploration and Transportation and under Criterion C in the area of Engineering. Because it has achieved significance within the past fifty years, Criteria Consideration G applies. Under Criterion A, Discovery is significant as the oldest of the three extant orbiter vehicles constructed for the Space Shuttle Program (SSP), the longest running American space program to date; she was the third of five orbiters built by NASA. Unlike the Mercury, Gemini, and Apollo programs, the SSP’s emphasis was on cost effectiveness and reusability, and eventually the construction of a space station. Including her maiden voyage (launched August 30, 1984), Discovery flew to space thirty-nine times, more than any of the other four orbiters; she was also the first orbiter to fly twenty missions. She had the honor of being chosen as the Return to Flight vehicle after both the Challenger and Columbia accidents. Discovery was the first shuttle to fly with the redesigned SRBs, a result of the Challenger accident, and the first shuttle to fly with the Phase II and Block I SSME. Discovery also carried the Hubble Space Telescope to orbit and performed two of the five servicing missions to the observatory. She flew the first and last dedicated Department of Defense (DoD) missions, as well as the first unclassified defense-related mission. In addition, Discovery was vital to the construction of the International Space Station (ISS); she flew thirteen of the thirty-seven total missions flown to the station by a U.S. Space Shuttle. She was the first orbiter to dock to the ISS, and the first to perform an exchange of a resident crew. Under Criterion C, Discovery is significant as a feat of engineering. According to Wayne Hale, a flight director from Johnson Space Center, the Space Shuttle orbiter represents a “huge technological leap from expendable rockets and capsules to a reusable, winged, hypersonic, cargo-carrying spacecraft.” Although her base structure followed a conventional aircraft design, she used advanced materials that both minimized her weight for cargo-carrying purposes and featured low thermal expansion ratios, which provided a stable base for her Thermal Protection System (TPS) materials. The Space Shuttle orbiter also featured the first reusable TPS; all previous spaceflight vehicles had a single-use, ablative heat shield. Other notable engineering achievements of the orbiter included the first reusable orbital propulsion system, and the first two-fault-tolerant Integrated Avionics System. As Hale stated, the Space Shuttle remains “the largest, fastest, winged hypersonic aircraft in history,” having regularly flown at twenty-five times the speed of sound.\""
      ],
      "metadata": {
        "id": "oY3ZebVmQwae"
      },
      "execution_count": 32,
      "outputs": []
    },
    {
      "cell_type": "markdown",
      "source": [
        "**Використання бібліотеки NLTK для створення summary:**"
      ],
      "metadata": {
        "id": "_KKTZKRkh-Ap"
      }
    },
    {
      "cell_type": "code",
      "source": [
        "nltk.download('punkt')\n",
        "\n",
        "nltk.download('stopwords')\n",
        "stop_words = set(stopwords.words('english'))\n",
        "punctuation = string.punctuation + '\\n'"
      ],
      "metadata": {
        "colab": {
          "base_uri": "https://localhost:8080/"
        },
        "id": "A9P7LO38i8Z_",
        "outputId": "573b4e01-4b9c-4cd2-f3fe-e6659f563eab"
      },
      "execution_count": 54,
      "outputs": [
        {
          "output_type": "stream",
          "name": "stderr",
          "text": [
            "[nltk_data] Downloading package punkt to /root/nltk_data...\n",
            "[nltk_data]   Package punkt is already up-to-date!\n",
            "[nltk_data] Downloading package stopwords to /root/nltk_data...\n",
            "[nltk_data]   Package stopwords is already up-to-date!\n"
          ]
        }
      ]
    },
    {
      "cell_type": "code",
      "source": [
        "sentences = sent_tokenize(text)"
      ],
      "metadata": {
        "id": "Xe1xr3-VjFCU"
      },
      "execution_count": 55,
      "outputs": []
    },
    {
      "cell_type": "code",
      "source": [
        "sentence_scores = {}\n",
        "for sentence in sentences:\n",
        "    word_count = len([word for word in sentence.split() if word.lower() not in stop_words])\n",
        "    sentence_scores[sentence] = word_count"
      ],
      "metadata": {
        "id": "fZ3njiRDjZcv"
      },
      "execution_count": 56,
      "outputs": []
    },
    {
      "cell_type": "code",
      "source": [
        "summary_sentences = nlargest(4, sentence_scores, key=sentence_scores.get)\n",
        "print(\"Summary (NLTK):\")\n",
        "for summary in summary_sentences:\n",
        "  print(summary)"
      ],
      "metadata": {
        "colab": {
          "base_uri": "https://localhost:8080/"
        },
        "id": "3JvSEG12jc5b",
        "outputId": "6313dd7e-d5a3-49aa-dc67-2aa309f5b698"
      },
      "execution_count": 58,
      "outputs": [
        {
          "output_type": "stream",
          "name": "stdout",
          "text": [
            "Summary (NLTK):\n",
            "According to Wayne Hale, a flight director from Johnson Space Center, the Space Shuttle orbiter represents a “huge technological leap from expendable rockets and capsules to a reusable, winged, hypersonic, cargo-carrying spacecraft.” Although her base structure followed a conventional aircraft design, she used advanced materials that both minimized her weight for cargo-carrying purposes and featured low thermal expansion ratios, which provided a stable base for her Thermal Protection System (TPS) materials.\n",
            "The Orbiter Discovery, OV-103, is considered eligible for listing in the National Register of Historic Places (NRHP) in the context of the U.S. Space Shuttle Program (1969-2011) under Criterion A in the areas of Space Exploration and Transportation and under Criterion C in the area of Engineering.\n",
            "Under Criterion A, Discovery is significant as the oldest of the three extant orbiter vehicles constructed for the Space Shuttle Program (SSP), the longest running American space program to date; she was the third of five orbiters built by NASA.\n",
            "Including her maiden voyage (launched August 30, 1984), Discovery flew to space thirty-nine times, more than any of the other four orbiters; she was also the first orbiter to fly twenty missions.\n"
          ]
        }
      ]
    },
    {
      "cell_type": "markdown",
      "source": [
        "**Використання бібліотеки SpaCy для створення summary**"
      ],
      "metadata": {
        "id": "VU1lymlEkBAI"
      }
    },
    {
      "cell_type": "code",
      "source": [
        "nlp = spacy.load('en_core_web_sm')\n",
        "doc = nlp(text)\n",
        "sentences = list(doc.sents)\n",
        "sentence_scores = {sent: len(sent) for sent in sentences}"
      ],
      "metadata": {
        "id": "soGYE5xAkIs6"
      },
      "execution_count": 59,
      "outputs": []
    },
    {
      "cell_type": "code",
      "source": [
        "print(stop_words)"
      ],
      "metadata": {
        "colab": {
          "base_uri": "https://localhost:8080/"
        },
        "id": "MANMMPVhm9ID",
        "outputId": "0173530c-2174-4737-e09a-ac1e3148f18b"
      },
      "execution_count": 61,
      "outputs": [
        {
          "output_type": "stream",
          "name": "stdout",
          "text": [
            "{'shouldn', 'both', 'her', 'hers', 'which', 'other', 'once', 'ourselves', 'having', 'can', \"mustn't\", 'shan', 'as', 'from', 'wasn', 'until', 'ain', 'do', 'be', 'too', 'such', 'wouldn', 'and', 'down', 'has', 'our', 'some', 'should', \"shouldn't\", 'what', 'o', 'so', 'does', 'me', \"hasn't\", 'than', 'have', 'haven', \"don't\", 'll', 'only', 'herself', 'she', 'how', 'who', 'mustn', 'his', 'you', 'themselves', 'hasn', 'below', 'theirs', 'for', 'or', 'this', 'because', 'mightn', 'on', \"hadn't\", 'weren', 'under', 'at', 'yourselves', \"she's\", 'they', 'again', \"you'd\", 'here', 'yours', 'him', 'don', 'itself', 'about', 'its', \"wasn't\", 'now', \"you're\", 're', 'their', 'am', \"you'll\", 'an', \"shan't\", \"didn't\", 'he', \"doesn't\", 'over', 'between', 'y', 'being', 'while', 'were', 'off', 'why', 'in', 'is', 'no', 'doing', \"weren't\", 'before', 'your', 'didn', 'doesn', 'most', 'isn', 'hadn', 've', 'it', 'i', 'where', 'same', 'ma', \"aren't\", 'been', \"mightn't\", \"couldn't\", \"haven't\", 'that', 'd', 'ours', 'couldn', 'm', 'did', 'after', 'few', 'very', 's', 'just', 'those', 'them', 'not', 'against', 'then', 'my', 'a', 'there', 'all', 'nor', \"wouldn't\", 't', 'we', 'was', 'needn', 'each', 'with', 'myself', 'these', 'out', 'will', 'won', 'when', 'are', 'had', \"it's\", \"that'll\", 'if', 'of', 'but', 'himself', 'up', 'into', 'aren', \"isn't\", \"you've\", \"won't\", \"needn't\", 'further', 'to', 'the', 'whom', 'own', 'by', 'during', 'more', 'any', \"should've\", 'through', 'above', 'yourself'}\n"
          ]
        }
      ]
    },
    {
      "cell_type": "code",
      "source": [
        "print(punctuation)"
      ],
      "metadata": {
        "colab": {
          "base_uri": "https://localhost:8080/"
        },
        "id": "14vTelt4n95z",
        "outputId": "19beaf0d-1d64-440d-d088-b3fbf811aa07"
      },
      "execution_count": 62,
      "outputs": [
        {
          "output_type": "stream",
          "name": "stdout",
          "text": [
            "!\"#$%&'()*+,-./:;<=>?@[\\]^_`{|}~\n",
            "\n"
          ]
        }
      ]
    },
    {
      "cell_type": "code",
      "source": [
        "summary_sentences = nlargest(4, sentence_scores, key=sentence_scores.get)\n",
        "print(\"Summary (SpaCy):\")\n",
        "for summary in summary_sentences:\n",
        "  print(summary)"
      ],
      "metadata": {
        "colab": {
          "base_uri": "https://localhost:8080/"
        },
        "id": "d4foxmRwkb29",
        "outputId": "4a5c6c39-9533-4202-931a-a6082a442527"
      },
      "execution_count": 64,
      "outputs": [
        {
          "output_type": "stream",
          "name": "stdout",
          "text": [
            "Summary (SpaCy):\n",
            "The Orbiter Discovery, OV-103, is considered eligible for listing in the National Register of Historic Places (NRHP) in the context of the U.S. Space Shuttle Program (1969-2011) under Criterion A in the areas of Space Exploration and Transportation and under Criterion C in the area of Engineering.\n",
            "Under Criterion A, Discovery is significant as the oldest of the three extant orbiter vehicles constructed for the Space Shuttle Program (SSP), the longest running American space program to date; she was the third of five orbiters built by NASA.\n",
            "Although her base structure followed a conventional aircraft design, she used advanced materials that both minimized her weight for cargo-carrying purposes and featured low thermal expansion ratios, which provided a stable base for her Thermal Protection System (TPS) materials.\n"
          ]
        }
      ]
    }
  ]
}